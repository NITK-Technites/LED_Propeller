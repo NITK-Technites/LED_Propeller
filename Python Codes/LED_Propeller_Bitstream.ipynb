{
 "cells": [
  {
   "cell_type": "code",
   "execution_count": 6,
   "metadata": {
    "scrolled": true
   },
   "outputs": [
    {
     "name": "stdout",
     "output_type": "stream",
     "text": [
      "('theta1', 10.111019914073351)\n",
      "('number_iterations', 32)\n",
      "('dtheta', 11)\n",
      "('center', 75)\n"
     ]
    },
    {
     "ename": "IndexError",
     "evalue": "index 32 is out of bounds for axis 0 with size 32",
     "output_type": "error",
     "traceback": [
      "\u001b[0;31m---------------------------------------------------------------------------\u001b[0m",
      "\u001b[0;31mIndexError\u001b[0m                                Traceback (most recent call last)",
      "\u001b[0;32m<ipython-input-6-07761ae3f57d>\u001b[0m in \u001b[0;36m<module>\u001b[0;34m()\u001b[0m\n\u001b[1;32m     44\u001b[0m     \u001b[0;32mfor\u001b[0m \u001b[0mn\u001b[0m \u001b[0;32min\u001b[0m \u001b[0mnp\u001b[0m\u001b[0;34m.\u001b[0m\u001b[0marange\u001b[0m\u001b[0;34m(\u001b[0m\u001b[0;36m0\u001b[0m\u001b[0;34m,\u001b[0m\u001b[0;36m15\u001b[0m\u001b[0;34m)\u001b[0m\u001b[0;34m:\u001b[0m\u001b[0;34m\u001b[0m\u001b[0m\n\u001b[1;32m     45\u001b[0m         \u001b[0;31m#print('img_var',img_var[center1 + n*dist,0])\u001b[0m\u001b[0;34m\u001b[0m\u001b[0;34m\u001b[0m\u001b[0m\n\u001b[0;32m---> 46\u001b[0;31m         \u001b[0mbitstream\u001b[0m\u001b[0;34m[\u001b[0m\u001b[0mint\u001b[0m\u001b[0;34m(\u001b[0m\u001b[0mtheta\u001b[0m\u001b[0;34m/\u001b[0m\u001b[0mdtheta\u001b[0m\u001b[0;34m)\u001b[0m\u001b[0;34m,\u001b[0m\u001b[0mn\u001b[0m\u001b[0;34m]\u001b[0m \u001b[0;34m=\u001b[0m \u001b[0mimg_var\u001b[0m\u001b[0;34m[\u001b[0m\u001b[0mcenter1\u001b[0m \u001b[0;34m+\u001b[0m \u001b[0mn\u001b[0m\u001b[0;34m*\u001b[0m\u001b[0mdist\u001b[0m\u001b[0;34m,\u001b[0m\u001b[0mcenter1\u001b[0m\u001b[0;34m]\u001b[0m\u001b[0;34m\u001b[0m\u001b[0m\n\u001b[0m\u001b[1;32m     47\u001b[0m         \u001b[0;31m#print(img_var[center1 + n*dist,0])\u001b[0m\u001b[0;34m\u001b[0m\u001b[0;34m\u001b[0m\u001b[0m\n\u001b[1;32m     48\u001b[0m \u001b[0;34m\u001b[0m\u001b[0m\n",
      "\u001b[0;31mIndexError\u001b[0m: index 32 is out of bounds for axis 0 with size 32"
     ]
    }
   ],
   "source": [
    "import numpy as np\n",
    "import cv2\n",
    "import scipy.signal as sig\n",
    "\n",
    "number_leds = 15\n",
    "dist = 4 # in mm, distance between LEDs\n",
    "size_led = 3.0\n",
    "dist_from_center = 17.0\n",
    "\n",
    "## ANGLE MADE BY LEDs WITH CENTER\n",
    "theta1 = (size_led/dist_from_center)*(180.0/np.pi)\n",
    "print('theta1',theta1)\n",
    "## NUMBER OF ITERATIONS \n",
    "number_iterations = int(360/theta1)\n",
    "number = int(np.log2(number_iterations))\n",
    "number_iterations = np.power(2,number)\n",
    "print('number_iterations', number_iterations)\n",
    "\n",
    "\n",
    "dtheta = 360/number_iterations\n",
    "print('dtheta', dtheta)\n",
    "\n",
    "## IF TOTAL LENGTH FROM CENTER TO LAST LED IS 'k' mm, image should be k*k pixels.\n",
    "imgs = cv2.imread('CS1.png',cv2.IMREAD_GRAYSCALE)\n",
    "size = 2*(int(dist_from_center) + 14*dist +2)\n",
    "img = cv2.resize(imgs, (size, size))\n",
    "ret,img_th = cv2.threshold(img,0,255,cv2.THRESH_BINARY+cv2.THRESH_OTSU)\n",
    "\n",
    "#cv2.imwrite(r'E:\\Admin\\Desktop\\image1.png', img_th)\n",
    "img_var = img_th\n",
    "dsize = img_th.shape\n",
    "\n",
    "center1 = int(len(img_th[0])/2)\n",
    "print('center', center1)\n",
    "#center = cv2.Point(center1, center1); #Assuming image is a square\n",
    "\n",
    "bitstream = np.zeros((number_iterations,number_leds), dtype = int)\n",
    "#print('shape', bitstream.shape)\n",
    "ii=0;\n",
    "for theta in np.arange(0,360,dtheta):    \n",
    "    ii = ii+1\n",
    "    M = cv2.getRotationMatrix2D((center1,center1), dtheta*theta, 1)\n",
    "    img_var = cv2.warpAffine(img_th, M, dsize, flags=cv2.INTER_LINEAR, borderMode=cv2.BORDER_CONSTANT);\n",
    "    for n in np.arange(0,15):\n",
    "        #print('img_var',img_var[center1 + n*dist,0])\n",
    "        bitstream[int(theta/dtheta),n] = img_var[center1 + n*dist,center1]\n",
    "        #print(img_var[center1 + n*dist,0])\n",
    "\n",
    "m = np.array(([0,1,0],[1,4,1],[0,1,0]))*(1/8.0)\n",
    "bitstream_th1 = sig.correlate2d(bitstream, m, mode = 'same', boundary = 'fill' ,fillvalue=0)\n",
    "bitstream_th = bitstream_th1.astype(int)\n",
    "#bitstream_final = np.where(bitstream_th)\n",
    "#print('bitstream',bitstream_th)\n",
    "\n",
    "thresh = 128\n",
    "bitstream_th[bitstream_th<=thresh]=1\n",
    "bitstream_th[bitstream_th>thresh]=0\n",
    "bitstream_th = bitstream_th.astype(int)\n",
    "\n",
    "#print('bitstream - final')\n",
    "#for i in np.arange(0,len(bitstream_th)):\n",
    "    #print(bitstream_th[i])\n",
    "    \n",
    "bitstream[bitstream<=thresh]=0\n",
    "\"\"\"\n",
    "print('bitstream - final')\n",
    "for i in np.arange(0,len(bitstream)):\n",
    "    print(bitstream[i])\n",
    "\"\"\"    \n",
    "bitstream[bitstream>thresh]=1\n",
    "\n",
    "bits1 = np.zeros(len(bitstream_th), dtype = np.int)\n",
    "bits2 = np.zeros(len(bitstream_th), dtype = np.int)\n",
    "#print('bitstream - final')\n",
    "t=0\n",
    "\n",
    "\n",
    "for i in np.arange(0,len(bitstream_th)):\n",
    "    #print(bitstream_th[i])\n",
    "    for j in np.arange(0,8):\n",
    "        bits1[i] = bits1[i]+ np.power(2,j)*bitstream_th[i][j]\n",
    "    #bits1[i] = hex(bits1[i])\n",
    "    #print(hex(bits1[i]))\n",
    "    for j in np.arange(0,7):\n",
    "        t=j\n",
    "        if(j>=4):\n",
    "            t=t+1\n",
    "        bits2[i] = bits2[i] + np.power(2,t)*bitstream_th[i][j+8]\n",
    "    #bits2[i] = hex(bits2[i])\n",
    "    #print(hex(bits2[i]))\n",
    "#print('bits1', bits1)\n",
    "#print('bits2', bits2)\n",
    "np.savetxt('bits11.txt', bits1, fmt = '%d', newline = ',')\n",
    "np.savetxt('bits21.txt', bits2, fmt = '%d', newline = ',') \n",
    "#np.savetxt(r'E:\\Admin\\Desktop\\bitstream.txt', bitstream_th)\n",
    "\n",
    "#print(cv2.__version__)"
   ]
  },
  {
   "cell_type": "code",
   "execution_count": null,
   "metadata": {},
   "outputs": [],
   "source": []
  },
  {
   "cell_type": "code",
   "execution_count": null,
   "metadata": {},
   "outputs": [],
   "source": []
  }
 ],
 "metadata": {
  "kernelspec": {
   "display_name": "Python 2",
   "language": "python",
   "name": "python2"
  },
  "language_info": {
   "codemirror_mode": {
    "name": "ipython",
    "version": 2
   },
   "file_extension": ".py",
   "mimetype": "text/x-python",
   "name": "python",
   "nbconvert_exporter": "python",
   "pygments_lexer": "ipython2",
   "version": "2.7.15rc1"
  }
 },
 "nbformat": 4,
 "nbformat_minor": 2
}
