{
 "cells": [
  {
   "cell_type": "code",
   "execution_count": 24,
   "metadata": {
    "scrolled": true
   },
   "outputs": [
    {
     "name": "stdout",
     "output_type": "stream",
     "text": [
      "number_iterations 90\n",
      "dtheta 4.0\n",
      "bitstream_final [[0 0 0 ... 1 1 1]\n",
      " [0 0 1 ... 0 0 0]\n",
      " [1 1 1 ... 0 0 0]\n",
      " ...\n",
      " [1 1 1 ... 1 1 1]\n",
      " [1 0 0 ... 0 0 0]\n",
      " [1 1 1 ... 0 0 0]]\n"
     ]
    }
   ],
   "source": [
    "import numpy as np\n",
    "import cv2\n",
    "import scipy.signal as sig\n",
    "\n",
    "number_leds = 15\n",
    "dist = 4 # in mm, distance between LEDs\n",
    "size_led = 3\n",
    "dist_from_center = 45\n",
    "\n",
    "## ANGLE MADE BY LEDs WITH CENTER\n",
    "theta1 = (size_led/dist_from_center)*(180/np.pi)\n",
    "\n",
    "## NUMBER OF ITERATIONS \n",
    "number_iterations = 360/theta1\n",
    "number = int(number_iterations/10)\n",
    "number_iterations = number*10\n",
    "print('number_iterations', number_iterations)\n",
    "\n",
    "dtheta = 360/number_iterations\n",
    "print('dtheta', dtheta)\n",
    "\n",
    "## img should be a 200x200\n",
    "img = cv2.imread(r'E:\\Admin\\Desktop\\Untitled.png',cv2.IMREAD_GRAYSCALE)\n",
    "ret,img_th = cv2.threshold(img,0,255,cv2.THRESH_BINARY+cv2.THRESH_OTSU)\n",
    "\n",
    "#cv2.imwrite(r'E:\\Admin\\Desktop\\image1.png', img_th)\n",
    "img_var = img_th\n",
    "dsize = img_th.shape\n",
    "\n",
    "center1 = int(len(img_th[0])/2)\n",
    "#center = cv2.Point(center1, center1); #Assuming image is a square\n",
    "\n",
    "bitstream = np.zeros((number_iterations,number_leds), dtype = int)\n",
    "#print('shape', bitstream.shape)\n",
    "for theta in np.arange(0,360,dtheta):    \n",
    "    M = cv2.getRotationMatrix2D((center1,center1), 3.6*theta, 1)\n",
    "    img_var = cv2.warpAffine(img_th, M, dsize, flags=cv2.INTER_LINEAR, borderMode=cv2.BORDER_CONSTANT);\n",
    "    \n",
    "    for n in np.arange(0,15):\n",
    "        #print('img_var',img_var[center1 + n*dist,0])\n",
    "        bitstream[int(theta/dtheta),n] = img_var[center1 + n*dist,0]\n",
    "        #print('bitstream', bitstream[int(theta/3.6),n])\n",
    "m = np.array(([0,1,0],[1,4,1],[0,1,0]))*(1/8.0)\n",
    "bitstream_th1 = sig.correlate2d(bitstream, m, mode = 'same', boundary = 'fill' ,fillvalue=0)\n",
    "bitstream_th = bitstream_th1.astype(int)\n",
    "#bitstream_final = np.where(bitstream_th)\n",
    "#print('bitstream',bitstream_th)\n",
    "\n",
    "bitstream_th[bitstream_th<=128]=0\n",
    "bitstream_th[bitstream_th>128]=1\n",
    "bitstream_th = bitstream_th.astype(int)\n",
    "print('bitstream_final',bitstream_th)\n",
    "\n",
    "#np.savetxt(r'E:\\Admin\\Desktop\\bitstream.txt', bitstream_th)\n",
    "\n",
    "#print(cv2.__version__)"
   ]
  },
  {
   "cell_type": "code",
   "execution_count": null,
   "metadata": {},
   "outputs": [],
   "source": []
  }
 ],
 "metadata": {
  "kernelspec": {
   "display_name": "Python 2",
   "language": "python",
   "name": "python2"
  },
  "language_info": {
   "codemirror_mode": {
    "name": "ipython",
    "version": 2
   },
   "file_extension": ".py",
   "mimetype": "text/x-python",
   "name": "python",
   "nbconvert_exporter": "python",
   "pygments_lexer": "ipython2",
   "version": "2.7.15"
  }
 },
 "nbformat": 4,
 "nbformat_minor": 2
}
